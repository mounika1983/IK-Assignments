{
 "cells": [
  {
   "attachments": {},
   "cell_type": "markdown",
   "metadata": {},
   "source": [
    "## Scope of variables in Python"
   ]
  },
  {
   "attachments": {},
   "cell_type": "markdown",
   "metadata": {},
   "source": [
    "## Global & Local Scope\n",
    "\n",
    "- Global: s1, s2\n",
    "- Local: s3 "
   ]
  },
  {
   "cell_type": "code",
   "execution_count": 13,
   "metadata": {},
   "outputs": [
    {
     "name": "stdout",
     "output_type": "stream",
     "text": [
      "1\n",
      "xyz\n",
      "1\n"
     ]
    }
   ],
   "source": [
    "s1 = 1\n",
    "\n",
    "def f(s1):\n",
    "\tprint(s1)\n",
    "\ts1 = \"xyz\" \n",
    "\tprint(s1)\n",
    "\ts3 = \"pqr\"\n",
    "\t#print(s1)\n",
    "\t#print(s2)\n",
    "\t#print(s3)\n",
    "\n",
    "s2 = \"xyz\"\n",
    "\n",
    "f(s1= s1)\n",
    "\n",
    "# Question: What's the final S1 value? 1 or \"xyz?\"\n",
    "print(s1)\n",
    "\n",
    "# print(s3) -> not allowed to use. \n"
   ]
  },
  {
   "cell_type": "code",
   "execution_count": 15,
   "metadata": {},
   "outputs": [
    {
     "name": "stdout",
     "output_type": "stream",
     "text": [
      "[]\n",
      "[1, 2, 3]\n",
      "[1, 2, 3]\n"
     ]
    }
   ],
   "source": [
    "def test_list(list1): \n",
    "    print(list1)\n",
    "    list1 = [1, 2, 3]\n",
    "\n",
    "    print(list1)\n",
    "    return list1\n",
    "\n",
    "list2 = []\n",
    "list2 = test_list(list2)\n",
    "print(list2) # Question : Empty or [1, 2, 3]"
   ]
  },
  {
   "cell_type": "code",
   "execution_count": 17,
   "metadata": {},
   "outputs": [
    {
     "name": "stdout",
     "output_type": "stream",
     "text": [
      "Python is great !\n",
      "It's awesome\n",
      "It's awesome\n"
     ]
    }
   ],
   "source": [
    "# This function modifies global variable 's'\n",
    "# access and change value in function for gloabl variable \n",
    "def f():\n",
    "\tglobal s\n",
    "\tprint(s)\n",
    "\ts = \"It's awesome\"\n",
    "\tprint(s)\n",
    "\n",
    "# Global Scope\n",
    "s = \"Python is great !\"\n",
    "f()\n",
    "print(s)  # global scope get changed.\n"
   ]
  },
  {
   "attachments": {},
   "cell_type": "markdown",
   "metadata": {},
   "source": [
    "## Enclosing Scope:"
   ]
  },
  {
   "cell_type": "code",
   "execution_count": 18,
   "metadata": {},
   "outputs": [
    {
     "name": "stdout",
     "output_type": "stream",
     "text": [
      "Printing var from inner_func(): 100\n",
      "Printing var from outer_func(): 100\n"
     ]
    }
   ],
   "source": [
    "def outer_func():\n",
    "    # This block is the Local scope of outer_func()\n",
    "    var = 100  # A nonlocal var\n",
    "    # It's also the enclosing scope of inner_func()\n",
    "    def inner_func():\n",
    "        # This block is the Local scope of inner_func()\n",
    "        print(f\"Printing var from inner_func(): {var}\") \n",
    "\n",
    "    inner_func()\n",
    "    print(f\"Printing var from outer_func(): {var}\") # local scope\n",
    "\n",
    "outer_func()"
   ]
  },
  {
   "attachments": {},
   "cell_type": "markdown",
   "metadata": {},
   "source": [
    "Follow up: What’s the benefit to use nested function?\n",
    "   "
   ]
  },
  {
   "cell_type": "code",
   "execution_count": 19,
   "metadata": {},
   "outputs": [
    {
     "ename": "NameError",
     "evalue": "name 'inner_func' is not defined",
     "output_type": "error",
     "traceback": [
      "\u001b[0;31m---------------------------------------------------------------------------\u001b[0m",
      "\u001b[0;31mNameError\u001b[0m                                 Traceback (most recent call last)",
      "Cell \u001b[0;32mIn[19], line 1\u001b[0m\n\u001b[0;32m----> 1\u001b[0m inner_func()\n",
      "\u001b[0;31mNameError\u001b[0m: name 'inner_func' is not defined"
     ]
    }
   ],
   "source": [
    "inner_func()"
   ]
  }
 ],
 "metadata": {
  "kernelspec": {
   "display_name": "Python 3",
   "language": "python",
   "name": "python3"
  },
  "language_info": {
   "codemirror_mode": {
    "name": "ipython",
    "version": 3
   },
   "file_extension": ".py",
   "mimetype": "text/x-python",
   "name": "python",
   "nbconvert_exporter": "python",
   "pygments_lexer": "ipython3",
   "version": "3.8.9"
  },
  "orig_nbformat": 4
 },
 "nbformat": 4,
 "nbformat_minor": 2
}
