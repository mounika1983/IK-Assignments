{
 "cells": [
  {
   "cell_type": "markdown",
   "metadata": {},
   "source": [
    "## If condition"
   ]
  },
  {
   "attachments": {},
   "cell_type": "markdown",
   "metadata": {},
   "source": [
    "### if Statement"
   ]
  },
  {
   "cell_type": "code",
   "execution_count": 2,
   "metadata": {},
   "outputs": [
    {
     "name": "stdout",
     "output_type": "stream",
     "text": [
      "Number is positive.\n",
      "Always executed\n"
     ]
    }
   ],
   "source": [
    "number = 10\n",
    "\n",
    "# check if number is greater than 0\n",
    "if number > 0:\n",
    "    print('Number is positive.')\n",
    "\n",
    "print('Always executed')"
   ]
  },
  {
   "cell_type": "code",
   "execution_count": 3,
   "metadata": {},
   "outputs": [
    {
     "name": "stdout",
     "output_type": "stream",
     "text": [
      "Always executed\n"
     ]
    }
   ],
   "source": [
    "number = 10\n",
    "\n",
    "if number < 0: # condition check is FALSE\n",
    "    print('Number is negative.')\n",
    "\n",
    "print('Always executed')"
   ]
  },
  {
   "attachments": {},
   "cell_type": "markdown",
   "metadata": {},
   "source": [
    " ### if...else Statement"
   ]
  },
  {
   "cell_type": "code",
   "execution_count": 4,
   "metadata": {},
   "outputs": [
    {
     "name": "stdout",
     "output_type": "stream",
     "text": [
      "Positive number\n",
      "This statement is always executed\n"
     ]
    }
   ],
   "source": [
    "number = 10\n",
    "\n",
    "if number > 0: # True\n",
    "    print('Positive number')\n",
    "else:\n",
    "    print('Negative number')\n",
    "\n",
    "print('This statement is always executed')"
   ]
  },
  {
   "cell_type": "code",
   "execution_count": 5,
   "metadata": {},
   "outputs": [
    {
     "name": "stdout",
     "output_type": "stream",
     "text": [
      "Negative number\n",
      "This statement is always executed\n"
     ]
    }
   ],
   "source": [
    "number = -10\n",
    "\n",
    "if number > 0: # False\n",
    "    print('Positive number')\n",
    "else:\n",
    "    print('Negative number')\n",
    "\n",
    "print('This statement is always executed')"
   ]
  },
  {
   "attachments": {},
   "cell_type": "markdown",
   "metadata": {},
   "source": [
    "### if...elif...else Statement"
   ]
  },
  {
   "cell_type": "code",
   "execution_count": 8,
   "metadata": {},
   "outputs": [
    {
     "ename": "SyntaxError",
     "evalue": "invalid syntax (1573323642.py, line 1)",
     "output_type": "error",
     "traceback": [
      "\u001b[0;36m  Cell \u001b[0;32mIn[8], line 1\u001b[0;36m\u001b[0m\n\u001b[0;31m    let a = 5\u001b[0m\n\u001b[0m        ^\u001b[0m\n\u001b[0;31mSyntaxError\u001b[0m\u001b[0;31m:\u001b[0m invalid syntax\n"
     ]
    }
   ],
   "source": [
    "a = 5\n",
    "print(a, type(a))"
   ]
  },
  {
   "cell_type": "code",
   "execution_count": 6,
   "metadata": {},
   "outputs": [
    {
     "name": "stdout",
     "output_type": "stream",
     "text": [
      "Positive number\n",
      "This statement is always executed\n"
     ]
    }
   ],
   "source": [
    "number = 5\n",
    "\n",
    "# check if this is positive\n",
    "if number > 0: \n",
    "    print(\"Positive number\")\n",
    "\n",
    "# check if this is zero\n",
    "elif number == 0: \n",
    "    print('Zero')\n",
    "\n",
    "# else: will be negative\n",
    "else:\n",
    "    print('Negative number')\n",
    "\n",
    "print('This statement is always executed')"
   ]
  },
  {
   "attachments": {},
   "cell_type": "markdown",
   "metadata": {},
   "source": [
    "Question: do if … elif … elif.., which has no else at the end?"
   ]
  },
  {
   "cell_type": "code",
   "execution_count": 9,
   "metadata": {},
   "outputs": [
    {
     "name": "stdout",
     "output_type": "stream",
     "text": [
      "list type\n"
     ]
    }
   ],
   "source": [
    "a = [1, 2, 3]\n",
    "if type(a) == int:\n",
    "    print('int type')\n",
    "elif type(a) == float:\n",
    "    print('float type')\n",
    "elif type(a) == list:\n",
    "    print('list type')"
   ]
  },
  {
   "cell_type": "code",
   "execution_count": 12,
   "metadata": {},
   "outputs": [],
   "source": [
    "k = 5\n",
    "if(type(k) != int):\n",
    "    print('yay')\n",
    "elif(not isinstance(k,int)):\n",
    "    print('yay int isinstance')\n",
    "#else:\n",
    "    #print('other type')"
   ]
  },
  {
   "cell_type": "code",
   "execution_count": 14,
   "metadata": {},
   "outputs": [
    {
     "name": "stdout",
     "output_type": "stream",
     "text": [
      "2\n"
     ]
    }
   ],
   "source": [
    "a = [1, 2, 3]\n",
    "i = 1\n",
    "\n",
    "if len(a) > 0 and i >= 0 and i < len(a):\n",
    "    print(a[i])"
   ]
  },
  {
   "attachments": {},
   "cell_type": "markdown",
   "metadata": {},
   "source": [
    "##\n",
    "\n",
    "a if condition else b"
   ]
  },
  {
   "cell_type": "code",
   "execution_count": 16,
   "metadata": {},
   "outputs": [
    {
     "name": "stdout",
     "output_type": "stream",
     "text": [
      "not positive number\n"
     ]
    }
   ],
   "source": [
    "a = 0\n",
    "print('positive number') if a > 0 else print('not positive number')"
   ]
  },
  {
   "cell_type": "code",
   "execution_count": 18,
   "metadata": {},
   "outputs": [
    {
     "name": "stdout",
     "output_type": "stream",
     "text": [
      "2\n"
     ]
    }
   ],
   "source": [
    "a = 1\n",
    "\n",
    "b = a + 1 if a >0 else 0\n",
    "\n",
    "print(b)\n"
   ]
  },
  {
   "cell_type": "code",
   "execution_count": 20,
   "metadata": {},
   "outputs": [],
   "source": [
    "a = 1"
   ]
  }
 ],
 "metadata": {
  "kernelspec": {
   "display_name": "Python 3",
   "language": "python",
   "name": "python3"
  },
  "language_info": {
   "codemirror_mode": {
    "name": "ipython",
    "version": 3
   },
   "file_extension": ".py",
   "mimetype": "text/x-python",
   "name": "python",
   "nbconvert_exporter": "python",
   "pygments_lexer": "ipython3",
   "version": "3.8.9"
  },
  "orig_nbformat": 4
 },
 "nbformat": 4,
 "nbformat_minor": 2
}
