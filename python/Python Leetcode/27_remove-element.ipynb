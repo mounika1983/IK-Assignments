{
 "cells": [
  {
   "attachments": {},
   "cell_type": "markdown",
   "metadata": {},
   "source": [
    "## 27. Remove Element"
   ]
  },
  {
   "attachments": {},
   "cell_type": "markdown",
   "metadata": {},
   "source": [
    "Given an integer array nums and an integer val, **remove all occurrences of val in nums in-place**. The order of the elements may be changed. Then return the number of elements in nums which are not equal to val.\n",
    "\n",
    "-  Consider the number of elements in nums which are not equal to val be k, to get accepted, you need to do the following things:\n",
    "\n",
    "- Change the array nums such that the first k elements of nums contain the elements which are not equal to val. The remaining elements of nums are not important as well as the size of nums.\n",
    "Return k."
   ]
  },
  {
   "attachments": {},
   "cell_type": "markdown",
   "metadata": {},
   "source": [
    "## Input\n",
    "- a = [1, 0, 2, 0, 3, 4, 5] # 7 items len() -> 7\n",
    "\n",
    "\n",
    "- val = 0 # list a has 2 0 to be removed. \n",
    "\n",
    "## Output\n",
    "- return 7 - 2 = 5\n",
    "\n",
    "- a = [1, 2, 3, 4, 5, ?, ? ]"
   ]
  },
  {
   "cell_type": "code",
   "execution_count": null,
   "metadata": {},
   "outputs": [],
   "source": []
  },
  {
   "attachments": {},
   "cell_type": "markdown",
   "metadata": {},
   "source": [
    "### Using while loop"
   ]
  },
  {
   "cell_type": "code",
   "execution_count": 25,
   "metadata": {},
   "outputs": [],
   "source": [
    "from typing import List\n",
    "\n",
    "class Solution:\n",
    "    def remove_element(self, nums: List[int], val: int) -> int:\n",
    "\n",
    "        fast = 0\n",
    "        while fast < len(nums):\n",
    "            fast+=1\n",
    "        \n",
    "        return fast"
   ]
  },
  {
   "cell_type": "code",
   "execution_count": 26,
   "metadata": {},
   "outputs": [
    {
     "ename": "TypeError",
     "evalue": "object of type 'int' has no len()",
     "output_type": "error",
     "traceback": [
      "\u001b[0;31m---------------------------------------------------------------------------\u001b[0m",
      "\u001b[0;31mTypeError\u001b[0m                                 Traceback (most recent call last)",
      "Cell \u001b[0;32mIn[26], line 2\u001b[0m\n\u001b[1;32m      1\u001b[0m s \u001b[39m=\u001b[39m Solution()\n\u001b[0;32m----> 2\u001b[0m s\u001b[39m.\u001b[39;49mremove_element(\u001b[39m1\u001b[39;49m, \u001b[39m2\u001b[39;49m)\n",
      "Cell \u001b[0;32mIn[25], line 7\u001b[0m, in \u001b[0;36mSolution.remove_element\u001b[0;34m(self, nums, val)\u001b[0m\n\u001b[1;32m      4\u001b[0m \u001b[39mdef\u001b[39;00m \u001b[39mremove_element\u001b[39m(\u001b[39mself\u001b[39m, nums: List[\u001b[39mint\u001b[39m], val: \u001b[39mint\u001b[39m) \u001b[39m-\u001b[39m\u001b[39m>\u001b[39m \u001b[39mint\u001b[39m:\n\u001b[1;32m      6\u001b[0m     fast \u001b[39m=\u001b[39m \u001b[39m0\u001b[39m\n\u001b[0;32m----> 7\u001b[0m     \u001b[39mwhile\u001b[39;00m fast \u001b[39m<\u001b[39m \u001b[39mlen\u001b[39;49m(nums):\n\u001b[1;32m      8\u001b[0m         fast\u001b[39m+\u001b[39m\u001b[39m=\u001b[39m\u001b[39m1\u001b[39m\n\u001b[1;32m     10\u001b[0m     \u001b[39mreturn\u001b[39;00m fast\n",
      "\u001b[0;31mTypeError\u001b[0m: object of type 'int' has no len()"
     ]
    }
   ],
   "source": [
    "s = Solution()\n",
    "s.remove_element()"
   ]
  },
  {
   "cell_type": "code",
   "execution_count": 18,
   "metadata": {},
   "outputs": [],
   "source": [
    "from typing import List\n",
    "\n",
    "class Solution:\n",
    "    # slef argument is a reserved argument to make sure the function is a \n",
    "    # member functoon of the class - Solution.\n",
    "    def remove_element(self, nums: List[int], val: int) -> int:\n",
    "        # two pointer/index \n",
    "        # which pointer is used to loop the existing list? : Fast\n",
    "        # What does the slow index do? : Continue the new result index \n",
    "        # (without target val)\n",
    "        slow , fast = 0, 0\n",
    "        # slow = fast = 0\n",
    "        # slow = 0\n",
    "        # fast = 0\n",
    "        while fast < len(nums):\n",
    "            # choose the un-matched items to the begining of the list\n",
    "            if nums[fast] != val:\n",
    "                nums[slow] = nums[fast]\n",
    "                slow+=1\n",
    "            fast+=1\n",
    "        \n",
    "        i = slow\n",
    "        while i < fast:\n",
    "            nums[i] = val\n",
    "            i += 1\n",
    "        print(nums) # what's the answer? \n",
    "        # 1, 2, 3, 4, 5, ? , ?\n",
    "        return slow"
   ]
  },
  {
   "cell_type": "code",
   "execution_count": 17,
   "metadata": {},
   "outputs": [
    {
     "name": "stdout",
     "output_type": "stream",
     "text": [
      "[1, 2, 3, 4, 5, 0, 0]\n",
      "5\n"
     ]
    }
   ],
   "source": [
    "s = Solution()\n",
    "a = [1, 0, 2, 0, 3, 4, 5]\n",
    "target = 0\n",
    "print(s.remove_element(nums = a, val = target))"
   ]
  },
  {
   "attachments": {},
   "cell_type": "markdown",
   "metadata": {},
   "source": [
    "[1, 0, 2, 0, 3, 0]"
   ]
  },
  {
   "attachments": {},
   "cell_type": "markdown",
   "metadata": {},
   "source": [
    "### Using for loop"
   ]
  },
  {
   "cell_type": "code",
   "execution_count": 20,
   "metadata": {},
   "outputs": [],
   "source": [
    "from typing import List\n",
    "\n",
    "class Solution2:\n",
    "    \n",
    "     def remove_element(self, nums: List[int], val: int) -> int:\n",
    "        # I -> Slow index\n",
    "        i = 0\n",
    "\n",
    "        # use for loop to save the Fast index\n",
    "        for num in nums:\n",
    "            # if num is not matched\n",
    "            if num != val:\n",
    "                # we move it to the begining using inex of i\n",
    "                nums[i] = num\n",
    "                i += 1\n",
    "        \n",
    "        return i"
   ]
  },
  {
   "cell_type": "code",
   "execution_count": 21,
   "metadata": {},
   "outputs": [
    {
     "name": "stdout",
     "output_type": "stream",
     "text": [
      "5\n"
     ]
    }
   ],
   "source": [
    "s = Solution2()\n",
    "a = [1, 0, 2, 0, 3, 4, 5]\n",
    "target = 0\n",
    "print(s.remove_element(nums = a, val = target))"
   ]
  },
  {
   "attachments": {},
   "cell_type": "markdown",
   "metadata": {},
   "source": [
    "Alternative approach from Rajat Sharma"
   ]
  },
  {
   "cell_type": "code",
   "execution_count": 23,
   "metadata": {},
   "outputs": [
    {
     "name": "stdout",
     "output_type": "stream",
     "text": [
      "[1, 5, 2, 4, 3, 0, 0]\n"
     ]
    }
   ],
   "source": [
    "nums = [1,0,2,0,3,4,5]\n",
    "# From left side\n",
    "l = 0\n",
    "# From right side\n",
    "r = len(nums)-1\n",
    "while (l < r):\n",
    "    # Non Zero\n",
    "    if nums[l] != 0:\n",
    "        l += 1\n",
    "        continue\n",
    "    # Zero\n",
    "    if nums[r] == 0:\n",
    "        r -= 1\n",
    "        continue\n",
    "\n",
    "    # Swap\n",
    "    nums[l], nums[r] = nums[r], nums[l] \n",
    "    # tmp = nums[l]\n",
    "    # nums[l] = nums[r]\n",
    "    #  nums[r] = tmp \n",
    "    l += 1\n",
    "    r -= 1\n",
    "print(nums)\n",
    "\n"
   ]
  },
  {
   "cell_type": "code",
   "execution_count": 24,
   "metadata": {},
   "outputs": [
    {
     "name": "stdout",
     "output_type": "stream",
     "text": [
      "10 0\n",
      "0 10\n"
     ]
    }
   ],
   "source": [
    "x = 10\n",
    "y = 0\n",
    "\n",
    "print(x, y)\n",
    "x , y = y, x\n",
    "print(x, y)"
   ]
  }
 ],
 "metadata": {
  "kernelspec": {
   "display_name": "Python 3",
   "language": "python",
   "name": "python3"
  },
  "language_info": {
   "codemirror_mode": {
    "name": "ipython",
    "version": 3
   },
   "file_extension": ".py",
   "mimetype": "text/x-python",
   "name": "python",
   "nbconvert_exporter": "python",
   "pygments_lexer": "ipython3",
   "version": "3.8.9"
  },
  "orig_nbformat": 4
 },
 "nbformat": 4,
 "nbformat_minor": 2
}
