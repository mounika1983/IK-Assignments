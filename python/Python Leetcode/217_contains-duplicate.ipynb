{
 "cells": [
  {
   "attachments": {},
   "cell_type": "markdown",
   "metadata": {},
   "source": [
    "## 217. Contains Duplicate"
   ]
  },
  {
   "cell_type": "code",
   "execution_count": 2,
   "metadata": {},
   "outputs": [],
   "source": [
    "from typing import List"
   ]
  },
  {
   "cell_type": "code",
   "execution_count": 4,
   "metadata": {},
   "outputs": [
    {
     "name": "stdout",
     "output_type": "stream",
     "text": [
      "[1, 2, 3, 4]\n",
      "{1, 2, 3, 4}\n",
      "4\n",
      "4\n",
      "False\n",
      "[1, 2, 3, 1]\n",
      "{1, 2, 3}\n",
      "4\n",
      "3\n",
      "True\n"
     ]
    }
   ],
   "source": [
    "class Solution:\n",
    "    def containsDuplicate(self, nums: List[int]) -> bool:\n",
    "        s = set(nums)\n",
    "\n",
    "        print(nums)\n",
    "        print(s)\n",
    "        \n",
    "        print(len(nums))\n",
    "        print(len(s))\n",
    "\n",
    "\n",
    "        return len(set(nums)) != len(nums)\n",
    "    \n",
    "s = Solution()\n",
    "print(s.containsDuplicate([1,2,3, 4]))\n",
    "\n",
    "print(s.containsDuplicate([1,2,3, 1]))"
   ]
  }
 ],
 "metadata": {
  "kernelspec": {
   "display_name": "Python 3",
   "language": "python",
   "name": "python3"
  },
  "language_info": {
   "codemirror_mode": {
    "name": "ipython",
    "version": 3
   },
   "file_extension": ".py",
   "mimetype": "text/x-python",
   "name": "python",
   "nbconvert_exporter": "python",
   "pygments_lexer": "ipython3",
   "version": "3.8.9"
  },
  "orig_nbformat": 4
 },
 "nbformat": 4,
 "nbformat_minor": 2
}
