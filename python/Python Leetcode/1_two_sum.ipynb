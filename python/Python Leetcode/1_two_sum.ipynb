{
 "cells": [
  {
   "cell_type": "code",
   "execution_count": 2,
   "metadata": {},
   "outputs": [],
   "source": [
    "from typing import List"
   ]
  },
  {
   "cell_type": "code",
   "execution_count": 6,
   "metadata": {},
   "outputs": [
    {
     "name": "stdout",
     "output_type": "stream",
     "text": [
      "0 1\n",
      "[0, 1]\n"
     ]
    }
   ],
   "source": [
    "## via List\n",
    "\n",
    "class Solution:\n",
    "    def twoSum(self, nums: List[int], target: int) -> List[int]:\n",
    "        size = len(nums)\n",
    "        if size < 2 : return []\n",
    "        res = []\n",
    "        # i 0 to n-1\n",
    "        for i in range(size):\n",
    "            a = nums[i]  # ACCESS BY index\n",
    "            # j from i +1 to n -1\n",
    "            for j in range(i + 1, size):\n",
    "                print(i, j)\n",
    "                b = nums[j] \n",
    "                \n",
    "                if a + b == target: # condition check\n",
    "                    res = [i, j]\n",
    "                    break # inner for loop\n",
    "                else: \n",
    "                    continue\n",
    "            # how to skip outer loop if we found the answer?\n",
    "            if len(res) == 2:\n",
    "                break\n",
    "            \n",
    "        return res\n",
    "\n",
    "instance = Solution()\n",
    "print(instance.twoSum([2,7,11,15], 9)) "
   ]
  },
  {
   "cell_type": "code",
   "execution_count": 8,
   "metadata": {},
   "outputs": [
    {
     "name": "stdout",
     "output_type": "stream",
     "text": [
      "[0, 1]\n"
     ]
    }
   ],
   "source": [
    "## via List\n",
    "\n",
    "class Solution:\n",
    "    def twoSum(self, nums: List[int], target: int) -> List[int]:\n",
    "        size = len(nums)\n",
    "        if size < 2 : return []\n",
    "        # i 0 to n-1\n",
    "        for i in range(size):\n",
    "            # j from i +1 to n -1\n",
    "            for j in range(i + 1, size):\n",
    "                if nums[i] + nums[j] == target: # condition check\n",
    "                    return [i, j]\n",
    "            \n",
    "        return []\n",
    "\n",
    "instance = Solution()\n",
    "print(instance.twoSum([2,7,11,15], 9)) "
   ]
  },
  {
   "attachments": {},
   "cell_type": "markdown",
   "metadata": {},
   "source": [
    "## via Set\n",
    "\n",
    "Question: Can set solve this 2 sum problem? If yes, how? if no, why?\n",
    "\n",
    "\n",
    "Not exactly  -> we can find the a+b pair, but we lost the index of a and b. Why? Set is unordered or not-indexed?"
   ]
  },
  {
   "cell_type": "code",
   "execution_count": 10,
   "metadata": {},
   "outputs": [
    {
     "name": "stdout",
     "output_type": "stream",
     "text": [
      "<class 'set'>\n",
      "[7, 2]\n",
      "[]\n"
     ]
    }
   ],
   "source": [
    "class Solution:\n",
    "    def twoSum(self, nums: List[int], target: int) -> List[int]:\n",
    "        res = [] \n",
    "        s = set()\n",
    "        print(type(s))\n",
    "        # one loop with time compexity :   o(n)\n",
    "        for idx, a in enumerate(nums):\n",
    "            b = target - a\n",
    "            if b in s: \n",
    "                print([a, b])\n",
    "            else: \n",
    "                s.add(a) # add to set to allow next step look up\n",
    "        return res\n",
    "\n",
    "instance = Solution()\n",
    "print(instance.twoSum([2,7,11,15], 9)) "
   ]
  },
  {
   "attachments": {},
   "cell_type": "markdown",
   "metadata": {},
   "source": [
    "## via Dictionary\n",
    "\n",
    "how to solve the problems from Set to persist the index"
   ]
  },
  {
   "cell_type": "code",
   "execution_count": 12,
   "metadata": {},
   "outputs": [
    {
     "name": "stdout",
     "output_type": "stream",
     "text": [
      "<class 'dict'>\n",
      "[0, 1]\n"
     ]
    }
   ],
   "source": [
    "class Solution:\n",
    "    def twoSum(self, nums: List[int], target: int) -> List[int]: \n",
    "        d = {}  # key : difference which is also the b, valuue: index from orginal list\n",
    "        print(type(d))\n",
    "        for idxOfa, a in enumerate(nums):\n",
    "            b = target - a\n",
    "            if b in d: \n",
    "                indxOfb = d[b]\n",
    "                return [indxOfb, idxOfa]\n",
    "            else:\n",
    "                d[a] =idxOfa # value of key \n",
    "        return []\n",
    "\n",
    "instance = Solution()\n",
    "print(instance.twoSum([2,7,11,15], 9)) "
   ]
  },
  {
   "cell_type": "code",
   "execution_count": null,
   "metadata": {},
   "outputs": [],
   "source": []
  },
  {
   "cell_type": "code",
   "execution_count": null,
   "metadata": {},
   "outputs": [],
   "source": []
  }
 ],
 "metadata": {
  "kernelspec": {
   "display_name": "Python 3",
   "language": "python",
   "name": "python3"
  },
  "language_info": {
   "codemirror_mode": {
    "name": "ipython",
    "version": 3
   },
   "file_extension": ".py",
   "mimetype": "text/x-python",
   "name": "python",
   "nbconvert_exporter": "python",
   "pygments_lexer": "ipython3",
   "version": "3.11.4"
  },
  "orig_nbformat": 4
 },
 "nbformat": 4,
 "nbformat_minor": 2
}
