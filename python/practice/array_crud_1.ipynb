{
 "cells": [
  {
   "cell_type": "code",
   "execution_count": 1,
   "metadata": {},
   "outputs": [],
   "source": [
    "import numpy as np"
   ]
  },
  {
   "cell_type": "code",
   "execution_count": 2,
   "metadata": {},
   "outputs": [],
   "source": [
    "array = np.array([])"
   ]
  },
  {
   "cell_type": "code",
   "execution_count": 3,
   "metadata": {},
   "outputs": [],
   "source": [
    "def addElement():\n",
    "    n = int(input(\"how many number you want to enter:\"))\n",
    "    print('Enter elements: ')\n",
    "    for i in range(n):\n",
    "        array.append(int(input()))\n",
    "    \n",
    "    print('Given Array: ', array)"
   ]
  },
  {
   "cell_type": "code",
   "execution_count": 4,
   "metadata": {},
   "outputs": [],
   "source": [
    "def addRangeElements():\n",
    "    print('Enter element range to add: ')\n",
    "    start = int(input())\n",
    "    end = int(input())\n",
    "    \n",
    "    array.extend(range(start, end))\n",
    "        \n",
    "    print('Array with added elements: ', array)"
   ]
  },
  {
   "cell_type": "code",
   "execution_count": 5,
   "metadata": {},
   "outputs": [],
   "source": [
    "def readElements():\n",
    "    print('Enter position range to read: ')\n",
    "    start = int(input())\n",
    "    end = int(input())\n",
    "        \n",
    "    print('Elements at given position: ', array[start:end])"
   ]
  },
  {
   "cell_type": "code",
   "execution_count": 6,
   "metadata": {},
   "outputs": [],
   "source": [
    "def updateElement():\n",
    "    index = int(input(\"Enter position to update:\"))\n",
    "    array[index] = int(input(\"Enter element to update:\"))\n",
    "    print('Array after update: ', array)"
   ]
  },
  {
   "cell_type": "code",
   "execution_count": 7,
   "metadata": {},
   "outputs": [],
   "source": [
    "def updateElements():\n",
    "    print('Enter position range: ')\n",
    "    pos1 = int(input())\n",
    "    pos2 = int(input())\n",
    "    print('Enter element range: ')\n",
    "    start = int(input())\n",
    "    end = int(input())\n",
    "    array[pos1:pos2] = array('i', range(start, end))\n",
    "    print('Array after update: ', array)"
   ]
  },
  {
   "cell_type": "code",
   "execution_count": 8,
   "metadata": {},
   "outputs": [],
   "source": [
    "\n",
    "def deleteElement():\n",
    "    index = int(input(\"Enter position to delete element:\"))\n",
    "    del array[index]\n",
    "    print('Array after delete element: ', array)"
   ]
  },
  {
   "cell_type": "code",
   "execution_count": 9,
   "metadata": {},
   "outputs": [],
   "source": [
    "def searchElement():\n",
    "    index = int(input(\"Enter position to search:\"))\n",
    "    print('Element find at given position is: ', array[index])"
   ]
  },
  {
   "cell_type": "code",
   "execution_count": 10,
   "metadata": {},
   "outputs": [],
   "source": [
    "def sliceArray():\n",
    "    print('Enter position to slice: ')\n",
    "    pos = int(input())\n",
    "        \n",
    "    print('Left array: ', array[:pos])\n",
    "    print('Right array: ', array[pos:])"
   ]
  },
  {
   "cell_type": "code",
   "execution_count": 11,
   "metadata": {},
   "outputs": [
    {
     "name": "stdout",
     "output_type": "stream",
     "text": [
      "1. Create an array\n",
      "2. Read all elements from array\n",
      "3. Read elements at given positions\n",
      "4. Update an element from array\n",
      "5. Update range of elements from array\n",
      "6. Delete an element from array\n",
      "7. Sort elements from array\n",
      "8. Search element from array\n",
      "9. sliceing the array\n",
      "10. Add range of elements\n"
     ]
    }
   ],
   "source": [
    "i = 0\n",
    "\n",
    "while i < 8:       \n",
    "    print(\"1. Create an array\")\n",
    "    print(\"2. Read all elements from array\")\n",
    "    print(\"3. Read elements at given positions\")\n",
    "    print(\"4. Update an element from array\")\n",
    "    print(\"5. Update range of elements from array\")\n",
    "    print(\"6. Delete an element from array\")\n",
    "    print(\"7. Sort elements from array\")\n",
    "    print(\"8. Search element from array\")\n",
    "    print(\"9. sliceing the array\")\n",
    "    print(\"10. Add range of elements\")\n",
    "    \n",
    "            \n",
    "    i = int(input(\"Number you want to enter:\"))\n",
    "        \n",
    "    if(i == 1):\n",
    "        addElement()\n",
    "    elif(i == 2):\n",
    "        print(array[:])\n",
    "    elif(i == 3):\n",
    "        readElements()\n",
    "    elif(i == 4):\n",
    "        updateElement()\n",
    "    elif(i == 5):\n",
    "        updateElements()\n",
    "    elif(i == 6):\n",
    "        deleteElement()\n",
    "    elif(i == 7):\n",
    "        print ('Sorted array: ', array.sort())\n",
    "    elif(i == 8):\n",
    "        searchElement()\n",
    "    elif(i == 9):\n",
    "        sliceArray()\n",
    "    elif(i == 10):\n",
    "        addRangeElements()\n",
    "    else:\n",
    "        break"
   ]
  }
 ],
 "metadata": {
  "kernelspec": {
   "display_name": "base",
   "language": "python",
   "name": "python3"
  },
  "language_info": {
   "codemirror_mode": {
    "name": "ipython",
    "version": 3
   },
   "file_extension": ".py",
   "mimetype": "text/x-python",
   "name": "python",
   "nbconvert_exporter": "python",
   "pygments_lexer": "ipython3",
   "version": "3.11.4"
  },
  "orig_nbformat": 4
 },
 "nbformat": 4,
 "nbformat_minor": 2
}
